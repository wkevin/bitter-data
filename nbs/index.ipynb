{
 "cells": [
  {
   "attachments": {},
   "cell_type": "markdown",
   "metadata": {},
   "source": [
    "---\n",
    "title: \"丑奴儿\"\n",
    "\n",
    "format:\n",
    "  html:\n",
    "    include-in-header:\n",
    "      - text: <link rel=\"stylesheet\" href=\"//unpkg.com/heti/umd/heti.min.css\">\n",
    "---"
   ]
  },
  {
   "attachments": {},
   "cell_type": "markdown",
   "metadata": {},
   "source": [
    "<div class=\"heti heti--ancient\" style=\"margin:auto\">\n",
    "  <h2>丑奴儿·书博山道中壁<span class=\"heti-meta heti-small\">[宋]<abbr>辛弃疾</abbr></span></h2>\n",
    "  <p class=\"heti-verse heti-x-large\" style=\"text-align:center; margin:auto\">\n",
    "    少年不识愁滋味<span class=\"heti-hang\">，</span><br>\n",
    "    爱上层楼<span class=\"heti-hang\">。</span><br>\n",
    "    爱上层楼<span class=\"heti-hang\">，</span><br>\n",
    "    为赋新词强说愁<span class=\"heti-hang\">。</span><br>\n",
    "    而今识尽愁滋味<span class=\"heti-hang\">，</span><br>\n",
    "    欲说还休<span class=\"heti-hang\">。</span><br>\n",
    "    欲说还休<span class=\"heti-hang\">，</span><br>\n",
    "    却道天凉好个秋<span class=\"heti-hang\">。</span><br>\n",
    "  </p>\n",
    "</div>"
   ]
  }
 ],
 "metadata": {
  "kernelspec": {
   "display_name": "venv311",
   "language": "python",
   "name": "python3"
  },
  "language_info": {
   "name": "python",
   "version": "3.11.0 (main, Nov  7 2022, 10:43:15) [GCC 9.4.0]"
  },
  "orig_nbformat": 4,
  "vscode": {
   "interpreter": {
    "hash": "4bf67281fb34d5643f6a60814ecd65b9924dae01b37deee29aa950a2e3f5c834"
   }
  }
 },
 "nbformat": 4,
 "nbformat_minor": 2
}
