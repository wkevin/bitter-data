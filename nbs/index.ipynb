{
 "cells": [
  {
   "attachments": {},
   "cell_type": "markdown",
   "metadata": {},
   "source": [
    "---\n",
    "title: \"丑奴儿\"\n",
    "\n",
    "format:\n",
    "  html:\n",
    "    include-in-header:\n",
    "      - text: <link rel=\"stylesheet\" href=\"//unpkg.com/heti/umd/heti.min.css\">\n",
    "comments:\n",
    "  giscus: \n",
    "    repo: wkevin/bitter-data\n",
    "---"
   ]
  },
  {
   "attachments": {},
   "cell_type": "markdown",
   "metadata": {},
   "source": [
    "<div class=\"heti heti--ancient\" style=\"width:500px; margin:auto\">\n",
    "  <h2>丑奴儿·书博山道中壁<span class=\"heti-meta heti-small\">[宋]<abbr>辛弃疾</abbr></span></h2>\n",
    "  <p class=\"heti-verse heti-x-large\" style=\"text-align:center; margin:auto\">\n",
    "    少年不识愁滋味<span class=\"heti-hang\">，</span><br>\n",
    "    爱上层楼<span class=\"heti-hang\">。</span><br>\n",
    "    爱上层楼<span class=\"heti-hang\">，</span><br>\n",
    "    为赋新词强说愁<span class=\"heti-hang\">。</span><br>`\n",
    "    而今识尽愁滋味<span class=\"heti-hang\">，</span><br>\n",
    "    欲说还休<span class=\"heti-hang\">。</span><br>\n",
    "    欲说还休<span class=\"heti-hang\">，</span><br>\n",
    "    却道天凉好个秋<span class=\"heti-hang\">。</span><br>\n",
    "  </p>\n",
    "</div>"
   ]
  }
 ],
 "metadata": {
  "language_info": {
   "name": "python"
  },
  "orig_nbformat": 4
 },
 "nbformat": 4,
 "nbformat_minor": 2
}
